{
 "cells": [
  {
   "cell_type": "code",
   "execution_count": 1,
   "metadata": {},
   "outputs": [],
   "source": [
    "from optimise import *"
   ]
  },
  {
   "cell_type": "code",
   "execution_count": 2,
   "metadata": {},
   "outputs": [],
   "source": [
    "gc = get_ordered_gc(\"../blastocrithidia_code.xlsx\")"
   ]
  },
  {
   "cell_type": "code",
   "execution_count": 3,
   "metadata": {},
   "outputs": [],
   "source": [
    "opt = CodeOptimise(gc)"
   ]
  },
  {
   "cell_type": "code",
   "execution_count": 4,
   "metadata": {},
   "outputs": [
    {
     "data": {
      "text/plain": [
       "[OrderedDict([('UUU', 'Phe'), ('UUC', 'Phe'), ('UUA', 'Leu'), ('UUG', 'Leu')]),\n",
       " OrderedDict([('CUU', 'Leu'), ('CUC', 'Leu'), ('CUA', 'Leu'), ('CUG', 'Leu')]),\n",
       " OrderedDict([('AUU', 'Ile'), ('AUC', 'Ile'), ('AUA', 'Ile'), ('AUG', 'Met')]),\n",
       " OrderedDict([('GUU', 'Val'), ('GUC', 'Val'), ('GUA', 'Val'), ('GUG', 'Val')]),\n",
       " OrderedDict([('UCU', 'Ser'), ('UCC', 'Ser'), ('UCA', 'Ser'), ('UCG', 'Ser')]),\n",
       " OrderedDict([('CCU', 'Pro'), ('CCC', 'Pro'), ('CCA', 'Pro'), ('CCG', 'Pro')]),\n",
       " OrderedDict([('ACU', 'Thr'), ('ACC', 'Thr'), ('ACA', 'Thr'), ('ACG', 'Thr')]),\n",
       " OrderedDict([('GCU', 'Ala'), ('GCC', 'Ala'), ('GCA', 'Ala'), ('GCG', 'Ala')]),\n",
       " OrderedDict([('UAU', 'Tyr'),\n",
       "              ('UAC', 'Tyr'),\n",
       "              ('UAA', 'Glu/Stp'),\n",
       "              ('UAG', 'Glu/Stp')]),\n",
       " OrderedDict([('CAU', 'His'), ('CAC', 'His'), ('CAA', 'Gln'), ('CAG', 'Gln')]),\n",
       " OrderedDict([('AAU', 'Asn'), ('AAC', 'Asn'), ('AAA', 'Lys'), ('AAG', 'Lys')]),\n",
       " OrderedDict([('GAU', 'Asp'), ('GAC', 'Asp'), ('GAA', 'Glu'), ('GAG', 'Glu')]),\n",
       " OrderedDict([('UGU', 'Cys'), ('UGC', 'Cys'), ('UGA', 'Trp'), ('UGG', 'Trp')]),\n",
       " OrderedDict([('CGU', 'Arg'), ('CGC', 'Arg'), ('CGA', 'Arg'), ('CGG', 'Arg')]),\n",
       " OrderedDict([('AGU', 'Ser'), ('AGC', 'Ser'), ('AGA', 'Arg'), ('AGG', 'Arg')]),\n",
       " OrderedDict([('GGU', 'Gly'), ('GGC', 'Gly'), ('GGA', 'Gly'), ('GGG', 'Gly')])]"
      ]
     },
     "execution_count": 4,
     "metadata": {},
     "output_type": "execute_result"
    }
   ],
   "source": [
    "opt.blocks"
   ]
  },
  {
   "cell_type": "code",
   "execution_count": 5,
   "metadata": {},
   "outputs": [
    {
     "name": "stdout",
     "output_type": "stream",
     "text": [
      "odict_values(['Phe', 'Phe', 'Leu', 'Leu'])\n",
      "odict_values(['Leu', 'Leu', 'Leu', 'Leu'])\n",
      "odict_values(['Leu', 'Leu', 'Leu', 'Leu']) odict_values(['Phe', 'Phe', 'Leu', 'Leu'])\n"
     ]
    },
    {
     "data": {
      "text/plain": [
       "[OrderedDict([('UUU', 'Leu'), ('UUC', 'Leu'), ('UUA', 'Leu'), ('UUG', 'Leu')]),\n",
       " OrderedDict([('CUU', 'Phe'), ('CUC', 'Phe'), ('CUA', 'Leu'), ('CUG', 'Leu')]),\n",
       " OrderedDict([('AUU', 'Ile'), ('AUC', 'Ile'), ('AUA', 'Ile'), ('AUG', 'Met')]),\n",
       " OrderedDict([('GUU', 'Val'), ('GUC', 'Val'), ('GUA', 'Val'), ('GUG', 'Val')]),\n",
       " OrderedDict([('UCU', 'Ser'), ('UCC', 'Ser'), ('UCA', 'Ser'), ('UCG', 'Ser')]),\n",
       " OrderedDict([('CCU', 'Pro'), ('CCC', 'Pro'), ('CCA', 'Pro'), ('CCG', 'Pro')]),\n",
       " OrderedDict([('ACU', 'Thr'), ('ACC', 'Thr'), ('ACA', 'Thr'), ('ACG', 'Thr')]),\n",
       " OrderedDict([('GCU', 'Ala'), ('GCC', 'Ala'), ('GCA', 'Ala'), ('GCG', 'Ala')]),\n",
       " OrderedDict([('UAU', 'Tyr'),\n",
       "              ('UAC', 'Tyr'),\n",
       "              ('UAA', 'Glu/Stp'),\n",
       "              ('UAG', 'Glu/Stp')]),\n",
       " OrderedDict([('CAU', 'His'), ('CAC', 'His'), ('CAA', 'Gln'), ('CAG', 'Gln')]),\n",
       " OrderedDict([('AAU', 'Asn'), ('AAC', 'Asn'), ('AAA', 'Lys'), ('AAG', 'Lys')]),\n",
       " OrderedDict([('GAU', 'Asp'), ('GAC', 'Asp'), ('GAA', 'Glu'), ('GAG', 'Glu')]),\n",
       " OrderedDict([('UGU', 'Cys'), ('UGC', 'Cys'), ('UGA', 'Trp'), ('UGG', 'Trp')]),\n",
       " OrderedDict([('CGU', 'Arg'), ('CGC', 'Arg'), ('CGA', 'Arg'), ('CGG', 'Arg')]),\n",
       " OrderedDict([('AGU', 'Ser'), ('AGC', 'Ser'), ('AGA', 'Arg'), ('AGG', 'Arg')]),\n",
       " OrderedDict([('GGU', 'Gly'), ('GGC', 'Gly'), ('GGA', 'Gly'), ('GGG', 'Gly')])]"
      ]
     },
     "execution_count": 5,
     "metadata": {},
     "output_type": "execute_result"
    }
   ],
   "source": [
    "opt.swap(0,1)"
   ]
  },
  {
   "cell_type": "code",
   "execution_count": null,
   "metadata": {},
   "outputs": [],
   "source": []
  }
 ],
 "metadata": {
  "kernelspec": {
   "display_name": "Python 3",
   "language": "python",
   "name": "python3"
  },
  "language_info": {
   "codemirror_mode": {
    "name": "ipython",
    "version": 3
   },
   "file_extension": ".py",
   "mimetype": "text/x-python",
   "name": "python",
   "nbconvert_exporter": "python",
   "pygments_lexer": "ipython3",
   "version": "3.5.2"
  }
 },
 "nbformat": 4,
 "nbformat_minor": 2
}
